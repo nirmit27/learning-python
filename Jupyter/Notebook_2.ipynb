{
 "cells": [
  {
   "cell_type": "markdown",
   "metadata": {},
   "source": [
    "YBI Foundation Classes for AI and Machine Learning\n",
    "Practice Notebook "
   ]
  },
  {
   "cell_type": "code",
   "execution_count": null,
   "metadata": {},
   "outputs": [],
   "source": [
    "import pandas as pd\n",
    "dft = pd.read_csv('https://github.com/ybifoundation/Dataset/raw/26d662745d975c7ae516072e8e03bcd5c6c3d75a/Titanic.csv')\n",
    "\n",
    "dft.info()\n",
    "dft.name"
   ]
  },
  {
   "cell_type": "code",
   "execution_count": null,
   "metadata": {},
   "outputs": [],
   "source": [
    "col = pd.DataFrame(dft.columns)\n",
    "col"
   ]
  },
  {
   "cell_type": "code",
   "execution_count": null,
   "metadata": {},
   "outputs": [],
   "source": [
    "# Selecting the 'name' column of the df and saving it as a pandas series\n",
    "name = dft['name']\n",
    "name"
   ]
  },
  {
   "cell_type": "code",
   "execution_count": null,
   "metadata": {},
   "outputs": [],
   "source": [
    "# extracting a column from the df as a dataframe\n",
    "name = dft[['name']]\n",
    "name"
   ]
  },
  {
   "cell_type": "code",
   "execution_count": null,
   "metadata": {},
   "outputs": [],
   "source": [
    "# selecting the 100th row and all columns with iloc\n",
    "dft.iloc[100,:]"
   ]
  },
  {
   "cell_type": "code",
   "execution_count": null,
   "metadata": {},
   "outputs": [],
   "source": [
    "dft.iloc[:,[2,8]]"
   ]
  },
  {
   "cell_type": "code",
   "execution_count": null,
   "metadata": {},
   "outputs": [],
   "source": [
    "dft.iloc[:,[2,8]]\n",
    "dft.loc[:,['name','fare']]"
   ]
  },
  {
   "cell_type": "code",
   "execution_count": null,
   "metadata": {},
   "outputs": [],
   "source": [
    "dft.loc[[50,25,15],['pclass','fare','age']]\n",
    "dft.iloc[[50,25,15],[0,8,4]]"
   ]
  },
  {
   "cell_type": "code",
   "execution_count": null,
   "metadata": {},
   "outputs": [],
   "source": [
    "dft.loc[10:25,['pclass','fare','age']]\n",
    "dft.iloc[10:26,[0,8,4]]"
   ]
  },
  {
   "cell_type": "code",
   "execution_count": null,
   "metadata": {},
   "outputs": [],
   "source": [
    "# retrieve the records in a range of rows and columns\n",
    "dft.iloc[10:16,0:5]\n",
    "# dft.loc[10:15,'pclass':'age']"
   ]
  },
  {
   "cell_type": "code",
   "execution_count": null,
   "metadata": {},
   "outputs": [],
   "source": [
    "# retrieve the records of all the passengers aged 35 and above\n",
    "dft[dft['age']>=35]"
   ]
  },
  {
   "cell_type": "code",
   "execution_count": null,
   "metadata": {},
   "outputs": [],
   "source": [
    "# retrieve the same records as above, but from labels ranging from 'pclass' to 'age'\n",
    "dft.loc[(dft['age']>=35),'pclass':'age']"
   ]
  },
  {
   "cell_type": "code",
   "execution_count": null,
   "metadata": {},
   "outputs": [],
   "source": [
    "# retrieve records of all female passengers with age>=35\n",
    "dft.loc[(dft['age']>=35)&(dft['sex']=='female')]"
   ]
  }
 ],
 "metadata": {
  "kernelspec": {
   "display_name": "Python 3.10.7 64-bit",
   "language": "python",
   "name": "python3"
  },
  "language_info": {
   "codemirror_mode": {
    "name": "ipython",
    "version": 3
   },
   "file_extension": ".py",
   "mimetype": "text/x-python",
   "name": "python",
   "nbconvert_exporter": "python",
   "pygments_lexer": "ipython3",
   "version": "3.10.7"
  },
  "orig_nbformat": 4,
  "vscode": {
   "interpreter": {
    "hash": "54b5ffeb3effaa006ef19f360863a18c0e818e8a0da13a35cbece448ce12dd24"
   }
  }
 },
 "nbformat": 4,
 "nbformat_minor": 2
}
