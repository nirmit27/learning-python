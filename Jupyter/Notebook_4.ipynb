{
 "cells": [
  {
   "cell_type": "code",
   "execution_count": null,
   "metadata": {},
   "outputs": [],
   "source": [
    "import pandas as pd\n",
    "\n",
    "tips = pd.read_csv('https://github.com/ybifoundation/Dataset/raw/main/Tips%20Payment%20Data.csv')"
   ]
  },
  {
   "cell_type": "code",
   "execution_count": null,
   "metadata": {},
   "outputs": [],
   "source": [
    "# We print the first 5 lines of the dataset just to ensure that the dataset has been imported successfully\n",
    "tips.head()"
   ]
  },
  {
   "cell_type": "code",
   "execution_count": null,
   "metadata": {},
   "outputs": [],
   "source": [
    "# Calculate the percentage of tip to total bill\n",
    "# Create a new column of percentage tip\n",
    "tip_pcent = tips['Tip']/tips['Total Bill']*100\n",
    "tip_pcent"
   ]
  },
  {
   "cell_type": "code",
   "execution_count": null,
   "metadata": {},
   "outputs": [],
   "source": [
    "# Inserting the percentage tip column into the existing dataframe\n",
    "tips['Tip Percentage'] = tip_pcent\n",
    "tips"
   ]
  },
  {
   "cell_type": "code",
   "execution_count": null,
   "metadata": {},
   "outputs": [],
   "source": [
    "# Round up to 1 decimal place the tip percentage column value\n",
    "tips['Tip Percentage'] = tips['Tip Percentage'].round(1)\n",
    "tips.head()"
   ]
  },
  {
   "cell_type": "code",
   "execution_count": null,
   "metadata": {},
   "outputs": [],
   "source": [
    "# Drop the column labeled 'Payer Name'\n",
    "tips = tips.drop(['Payer Name'],axis=1)\n",
    "tips.head()"
   ]
  },
  {
   "cell_type": "code",
   "execution_count": null,
   "metadata": {},
   "outputs": [],
   "source": [
    "# Index the tips dataframe as per the Payment ID only\n",
    "tips = tips.set_index(['Payment ID'])\n",
    "tips"
   ]
  },
  {
   "cell_type": "code",
   "execution_count": null,
   "metadata": {},
   "outputs": [],
   "source": [
    "# Reset the index of tips dataframe to row index\n",
    "tips = tips.reset_index()\n",
    "tips.head()"
   ]
  }
 ],
 "metadata": {
  "kernelspec": {
   "display_name": "Python 3.10.7 64-bit",
   "language": "python",
   "name": "python3"
  },
  "language_info": {
   "codemirror_mode": {
    "name": "ipython",
    "version": 3
   },
   "file_extension": ".py",
   "mimetype": "text/x-python",
   "name": "python",
   "nbconvert_exporter": "python",
   "pygments_lexer": "ipython3",
   "version": "3.10.7"
  },
  "orig_nbformat": 4,
  "vscode": {
   "interpreter": {
    "hash": "54b5ffeb3effaa006ef19f360863a18c0e818e8a0da13a35cbece448ce12dd24"
   }
  }
 },
 "nbformat": 4,
 "nbformat_minor": 2
}
